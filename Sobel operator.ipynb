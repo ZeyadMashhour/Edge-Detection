{
 "cells": [
  {
   "cell_type": "code",
   "execution_count": 16,
   "metadata": {},
   "outputs": [],
   "source": [
    "import cv2\n",
    "import numpy as np"
   ]
  },
  {
   "cell_type": "code",
   "execution_count": 17,
   "metadata": {},
   "outputs": [
    {
     "name": "stdout",
     "output_type": "stream",
     "text": [
      "(3000, 3000, 3)\n",
      "(3000, 3000)\n"
     ]
    }
   ],
   "source": [
    "# Load the input image\n",
    "img = cv2.imread('4.jpg')\n",
    "print(img.shape)\n",
    "\n",
    "# Convert to grayscale\n",
    "gray = cv2.cvtColor(img, cv2.COLOR_BGR2GRAY)\n",
    "print(gray.shape)"
   ]
  },
  {
   "cell_type": "code",
   "execution_count": 18,
   "metadata": {},
   "outputs": [],
   "source": [
    "def create_Sobel_filter_for_image(image, x_kernel=3, y_kernel=3, threshold_value = 100):\n",
    "    # convert image to gray scale \n",
    "    # gray = cv2.cvtColor(image, cv2.COLOR_BGR2GRAY)\n",
    "    gray = image\n",
    "    # As the Kernel size increases, more pixels are now a part of the convolution process.\n",
    "    # This signifies that the gradient map (edges) will tend to get blurry to a point the \n",
    "    # output looks likes a plastic cover has been wrapped around the edges.\n",
    "    \n",
    "    # define kernel for filter\n",
    "    # Calculate gradient using Sobel kernels\n",
    "    grad_x = cv2.Sobel(gray, cv2.CV_64F, 1, 0, ksize=x_kernel)\n",
    "    grad_y = cv2.Sobel(gray, cv2.CV_64F, 0, 1, ksize=y_kernel)\n",
    "\n",
    "    # Calculate gradient magnitude\n",
    "    grad_mag = cv2.magnitude(grad_x, grad_y)\n",
    "     \n",
    "    # reducing the threshold increases the edges\n",
    "    # Apply thresholding to the gradient magnitude image\n",
    "    _, binary_edge_map = cv2.threshold(grad_mag, threshold_value, 255, cv2.THRESH_BINARY)\n",
    "    return binary_edge_map"
   ]
  },
  {
   "cell_type": "code",
   "execution_count": 19,
   "metadata": {},
   "outputs": [],
   "source": [
    "def create_Mathematical_Morphology_for_image(img):\n",
    "    # Define a kernel for morphological operations\n",
    "    kernel = np.ones((5,5), np.uint8)\n",
    "    # Apply morphological closing to fill in small gaps in the edges\n",
    "    closing = cv2.morphologyEx(img, cv2.MORPH_CLOSE, kernel)\n",
    "    # Apply morphological opening to remove small objects and noise from the edges\n",
    "    opening = cv2.morphologyEx(closing, cv2.MORPH_OPEN, kernel)\n",
    "    return opening"
   ]
  },
  {
   "cell_type": "code",
   "execution_count": 20,
   "metadata": {},
   "outputs": [
    {
     "data": {
      "text/plain": [
       "True"
      ]
     },
     "execution_count": 20,
     "metadata": {},
     "output_type": "execute_result"
    }
   ],
   "source": [
    "img = cv2.imread('1.jpg', 0)\n",
    "opening = create_Mathematical_Morphology_for_image(img)\n",
    "binary_edge_map = create_Sobel_filter_for_image(image=opening, x_kernel= 3, y_kernel=3, threshold_value=100)\n",
    "cv2.imwrite('output.png', binary_edge_map)"
   ]
  },
  {
   "cell_type": "code",
   "execution_count": 21,
   "metadata": {},
   "outputs": [
    {
     "data": {
      "text/plain": [
       "True"
      ]
     },
     "execution_count": 21,
     "metadata": {},
     "output_type": "execute_result"
    }
   ],
   "source": [
    "binary_edge_map = create_Sobel_filter_for_image(image=img, x_kernel= 3, y_kernel=3, threshold_value=100)\n",
    "cv2.imwrite('output2.png', binary_edge_map)"
   ]
  },
  {
   "cell_type": "code",
   "execution_count": 22,
   "metadata": {},
   "outputs": [
    {
     "data": {
      "text/plain": [
       "'Gaussian = cv2.GaussianBlur(image, (7, 7), 0)'"
      ]
     },
     "execution_count": 22,
     "metadata": {},
     "output_type": "execute_result"
    }
   ],
   "source": [
    "# Gaussian Blur\n",
    "\"\"\"Gaussian = cv2.GaussianBlur(image, (7, 7), 0)\"\"\""
   ]
  },
  {
   "cell_type": "code",
   "execution_count": null,
   "metadata": {},
   "outputs": [],
   "source": []
  },
  {
   "cell_type": "code",
   "execution_count": 23,
   "metadata": {},
   "outputs": [],
   "source": [
    "# cv2.namedWindow('finalImg', cv2.WINDOW_NORMAL)\n",
    "# cv2.imshow(\"finalImg\",gray)"
   ]
  },
  {
   "cell_type": "code",
   "execution_count": 24,
   "metadata": {},
   "outputs": [
    {
     "data": {
      "text/plain": [
       "'\\n# Importing all necessary libraries\\nimport cv2\\nimport os\\n  \\n# Read the video from specified path\\ncam = cv2.VideoCapture(\"C:\\\\Users\\\\Admin\\\\PycharmProjects\\\\project_1\\\\openCV.mp4\")\\n  \\ntry:\\n      \\n    # creating a folder named data\\n    if not os.path.exists(\\'data\\'):\\n        os.makedirs(\\'data\\')\\n  \\n# if not created then raise error\\nexcept OSError:\\n    print (\\'Error: Creating directory of data\\')\\n  \\n# frame\\ncurrentframe = 0\\n  \\nwhile(True):\\n      \\n    # reading from frame\\n    ret,frame = cam.read()\\n  \\n    if ret:\\n        # if video is still left continue creating images\\n        name = \\'./data/frame\\' + str(currentframe) + \\'.jpg\\'\\n        print (\\'Creating...\\' + name)\\n  \\n        # writing the extracted images\\n        cv2.imwrite(name, frame)\\n  \\n        # increasing counter so that it will\\n        # show how many frames are created\\n        currentframe += 1\\n    else:\\n        break\\n  \\n# Release all space and windows once done\\ncam.release()\\ncv2.destroyAllWindows()\\n'"
      ]
     },
     "execution_count": 24,
     "metadata": {},
     "output_type": "execute_result"
    }
   ],
   "source": [
    "\"\"\"\n",
    "# Importing all necessary libraries\n",
    "import cv2\n",
    "import os\n",
    "  \n",
    "# Read the video from specified path\n",
    "cam = cv2.VideoCapture(\"C:\\\\Users\\\\Admin\\\\PycharmProjects\\\\project_1\\\\openCV.mp4\")\n",
    "  \n",
    "try:\n",
    "      \n",
    "    # creating a folder named data\n",
    "    if not os.path.exists('data'):\n",
    "        os.makedirs('data')\n",
    "  \n",
    "# if not created then raise error\n",
    "except OSError:\n",
    "    print ('Error: Creating directory of data')\n",
    "  \n",
    "# frame\n",
    "currentframe = 0\n",
    "  \n",
    "while(True):\n",
    "      \n",
    "    # reading from frame\n",
    "    ret,frame = cam.read()\n",
    "  \n",
    "    if ret:\n",
    "        # if video is still left continue creating images\n",
    "        name = './data/frame' + str(currentframe) + '.jpg'\n",
    "        print ('Creating...' + name)\n",
    "  \n",
    "        # writing the extracted images\n",
    "        cv2.imwrite(name, frame)\n",
    "  \n",
    "        # increasing counter so that it will\n",
    "        # show how many frames are created\n",
    "        currentframe += 1\n",
    "    else:\n",
    "        break\n",
    "  \n",
    "# Release all space and windows once done\n",
    "cam.release()\n",
    "cv2.destroyAllWindows()\n",
    "\"\"\""
   ]
  },
  {
   "cell_type": "code",
   "execution_count": 25,
   "metadata": {},
   "outputs": [],
   "source": [
    "def create_frames_from_video(video_Path):\n",
    "    video = cv2.VideoCapture(video_Path)\n",
    "    frames_list = []\n",
    "    filtered_frames_list = []\n",
    "    morph_frames_list = []\n",
    "\n",
    "    while True:\n",
    "        ret, frame = video.read()\n",
    "\n",
    "        if ret:\n",
    "            frame = cv2.resize(frame, (500, 500))\n",
    "            frames_list.append(frame)\n",
    "            binary_edge_map = create_Sobel_filter_for_image(image=frame, x_kernel= 3, y_kernel=3, threshold_value=100)\n",
    "            # laplacian = cv2.Laplacian(frame, cv2.CV_64F)\n",
    "            # laplacian = np.uint8(laplacian)\n",
    "            #filtered_frame = cv2.resize(binary_edge_map, (960, 540))\n",
    "\n",
    "            morphImg = create_Mathematical_Morphology_for_image(frame)\n",
    "            morphImg = create_Sobel_filter_for_image(image=morphImg, x_kernel= 3, y_kernel=3, threshold_value=100)\n",
    "\n",
    "            filtered_frames_list.append(binary_edge_map)\n",
    "            morph_frames_list.append(morphImg)\n",
    "        else:\n",
    "            break\n",
    "    video.release()\n",
    "    return frames_list, filtered_frames_list,morph_frames_list\n"
   ]
  },
  {
   "cell_type": "code",
   "execution_count": 26,
   "metadata": {},
   "outputs": [],
   "source": [
    "frames_list, filtered_frames_list,morph_frames_list = create_frames_from_video(\"flick.mp4\")"
   ]
  },
  {
   "cell_type": "code",
   "execution_count": 27,
   "metadata": {},
   "outputs": [],
   "source": [
    "def show_video_from_frames(frames_list, filtered_frames_list,morph_frames_list):\n",
    "    for i in range(len(filtered_frames_list)):\n",
    "        cv2.imshow(\"frame\", frames_list[i])\n",
    "        cv2.imshow(\"filtered_frames\", filtered_frames_list[i])\n",
    "        cv2.imshow(\"morhped_frames\", morph_frames_list[i])\n",
    "        if(cv2.waitKey(5) == ord('q')):\n",
    "            break\n",
    "    cv2.destroyAllWindows()"
   ]
  },
  {
   "cell_type": "code",
   "execution_count": 28,
   "metadata": {},
   "outputs": [],
   "source": [
    "# cv2.imshow(\"frame\", frames_list[0])\n",
    "# cv2.imshow(\"filtered_frames\", filtered_frames_list[0])\n",
    "# if ord('q'):\n",
    "#     cv2.waitKey(0)\n",
    "\n",
    "# cv2.destroyAllWindows()"
   ]
  },
  {
   "cell_type": "code",
   "execution_count": 29,
   "metadata": {},
   "outputs": [],
   "source": [
    "show_video_from_frames(frames_list, filtered_frames_list,morph_frames_list)"
   ]
  },
  {
   "cell_type": "code",
   "execution_count": 30,
   "metadata": {},
   "outputs": [
    {
     "name": "stdout",
     "output_type": "stream",
     "text": [
      "uhhhhh yametai kodasai uhhhhhhhhhhh\n"
     ]
    }
   ],
   "source": [
    "print('uhhhhh yametai kodasai uhhhhhhhhhhh')"
   ]
  }
 ],
 "metadata": {
  "kernelspec": {
   "display_name": "Python 3",
   "language": "python",
   "name": "python3"
  },
  "language_info": {
   "codemirror_mode": {
    "name": "ipython",
    "version": 3
   },
   "file_extension": ".py",
   "mimetype": "text/x-python",
   "name": "python",
   "nbconvert_exporter": "python",
   "pygments_lexer": "ipython3",
   "version": "3.10.0"
  },
  "orig_nbformat": 4,
  "vscode": {
   "interpreter": {
    "hash": "afbd2e3b20535035cb123f2b315173d4c27faa26889583774d241154cf5dbaf6"
   }
  }
 },
 "nbformat": 4,
 "nbformat_minor": 2
}
