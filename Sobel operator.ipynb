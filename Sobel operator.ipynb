{
 "cells": [
  {
   "cell_type": "code",
   "execution_count": 1,
   "metadata": {},
   "outputs": [],
   "source": [
    "import cv2\n",
    "import numpy as np"
   ]
  },
  {
   "cell_type": "code",
   "execution_count": 2,
   "metadata": {},
   "outputs": [
    {
     "name": "stdout",
     "output_type": "stream",
     "text": [
      "(3000, 3000, 3)\n",
      "(3000, 3000)\n"
     ]
    }
   ],
   "source": [
    "# Load the input image\n",
    "img = cv2.imread('4.jpg')\n",
    "print(img.shape)\n",
    "\n",
    "# Convert to grayscale\n",
    "gray = cv2.cvtColor(img, cv2.COLOR_BGR2GRAY)\n",
    "print(gray.shape)"
   ]
  },
  {
   "cell_type": "code",
   "execution_count": 3,
   "metadata": {},
   "outputs": [],
   "source": [
    "def create_Sobel_filter_for_image(image, x_kernel=3, y_kernel=3, threshold_value = 100):\n",
    "    # convert image to gray scale \n",
    "    gray = cv2.cvtColor(image, cv2.COLOR_BGR2GRAY)\n",
    "\n",
    "    # As the Kernel size increases, more pixels are now a part of the convolution process.\n",
    "    # This signifies that the gradient map (edges) will tend to get blurry to a point the \n",
    "    # output looks likes a plastic cover has been wrapped around the edges.\n",
    "    \n",
    "    # define kernel for filter\n",
    "    # Calculate gradient using Sobel kernels\n",
    "    grad_x = cv2.Sobel(gray, cv2.CV_64F, 1, 0, ksize=x_kernel)\n",
    "    grad_y = cv2.Sobel(gray, cv2.CV_64F, 0, 1, ksize=y_kernel)\n",
    "\n",
    "    # Calculate gradient magnitude\n",
    "    grad_mag = cv2.magnitude(grad_x, grad_y)\n",
    "     \n",
    "    # reducing the threshold increases the edges\n",
    "    # Apply thresholding to the gradient magnitude image\n",
    "    _, binary_edge_map = cv2.threshold(grad_mag, threshold_value, 255, cv2.THRESH_BINARY)\n",
    "    return binary_edge_map"
   ]
  },
  {
   "cell_type": "code",
   "execution_count": 4,
   "metadata": {},
   "outputs": [
    {
     "data": {
      "text/plain": [
       "'Gaussian = cv2.GaussianBlur(image, (7, 7), 0)'"
      ]
     },
     "execution_count": 4,
     "metadata": {},
     "output_type": "execute_result"
    }
   ],
   "source": [
    "# Gaussian Blur\n",
    "\"\"\"Gaussian = cv2.GaussianBlur(image, (7, 7), 0)\"\"\""
   ]
  },
  {
   "cell_type": "code",
   "execution_count": 5,
   "metadata": {},
   "outputs": [],
   "source": [
    "# cv2.namedWindow('finalImg', cv2.WINDOW_NORMAL)\n",
    "# cv2.imshow(\"finalImg\",gray)"
   ]
  },
  {
   "cell_type": "code",
   "execution_count": 6,
   "metadata": {},
   "outputs": [
    {
     "data": {
      "text/plain": [
       "'\\n# Importing all necessary libraries\\nimport cv2\\nimport os\\n  \\n# Read the video from specified path\\ncam = cv2.VideoCapture(\"C:\\\\Users\\\\Admin\\\\PycharmProjects\\\\project_1\\\\openCV.mp4\")\\n  \\ntry:\\n      \\n    # creating a folder named data\\n    if not os.path.exists(\\'data\\'):\\n        os.makedirs(\\'data\\')\\n  \\n# if not created then raise error\\nexcept OSError:\\n    print (\\'Error: Creating directory of data\\')\\n  \\n# frame\\ncurrentframe = 0\\n  \\nwhile(True):\\n      \\n    # reading from frame\\n    ret,frame = cam.read()\\n  \\n    if ret:\\n        # if video is still left continue creating images\\n        name = \\'./data/frame\\' + str(currentframe) + \\'.jpg\\'\\n        print (\\'Creating...\\' + name)\\n  \\n        # writing the extracted images\\n        cv2.imwrite(name, frame)\\n  \\n        # increasing counter so that it will\\n        # show how many frames are created\\n        currentframe += 1\\n    else:\\n        break\\n  \\n# Release all space and windows once done\\ncam.release()\\ncv2.destroyAllWindows()\\n'"
      ]
     },
     "execution_count": 6,
     "metadata": {},
     "output_type": "execute_result"
    }
   ],
   "source": [
    "\"\"\"\n",
    "# Importing all necessary libraries\n",
    "import cv2\n",
    "import os\n",
    "  \n",
    "# Read the video from specified path\n",
    "cam = cv2.VideoCapture(\"C:\\\\Users\\\\Admin\\\\PycharmProjects\\\\project_1\\\\openCV.mp4\")\n",
    "  \n",
    "try:\n",
    "      \n",
    "    # creating a folder named data\n",
    "    if not os.path.exists('data'):\n",
    "        os.makedirs('data')\n",
    "  \n",
    "# if not created then raise error\n",
    "except OSError:\n",
    "    print ('Error: Creating directory of data')\n",
    "  \n",
    "# frame\n",
    "currentframe = 0\n",
    "  \n",
    "while(True):\n",
    "      \n",
    "    # reading from frame\n",
    "    ret,frame = cam.read()\n",
    "  \n",
    "    if ret:\n",
    "        # if video is still left continue creating images\n",
    "        name = './data/frame' + str(currentframe) + '.jpg'\n",
    "        print ('Creating...' + name)\n",
    "  \n",
    "        # writing the extracted images\n",
    "        cv2.imwrite(name, frame)\n",
    "  \n",
    "        # increasing counter so that it will\n",
    "        # show how many frames are created\n",
    "        currentframe += 1\n",
    "    else:\n",
    "        break\n",
    "  \n",
    "# Release all space and windows once done\n",
    "cam.release()\n",
    "cv2.destroyAllWindows()\n",
    "\"\"\""
   ]
  },
  {
   "cell_type": "code",
   "execution_count": 7,
   "metadata": {},
   "outputs": [],
   "source": [
    "def create_frames_from_video(video_Path):\n",
    "    video = cv2.VideoCapture(video_Path)\n",
    "    frames_list = []\n",
    "    filtered_frames_list = []\n",
    "\n",
    "    while True:\n",
    "        ret, frame = video.read()\n",
    "\n",
    "        if ret:\n",
    "            frame = cv2.resize(frame, (960, 540))\n",
    "            frames_list.append(frame)\n",
    "            binary_edge_map = create_Sobel_filter_for_image(image=frame, x_kernel= 3, y_kernel=3, threshold_value=100)\n",
    "            # laplacian = cv2.Laplacian(frame, cv2.CV_64F)\n",
    "            # laplacian = np.uint8(laplacian)\n",
    "            #filtered_frame = cv2.resize(binary_edge_map, (960, 540)) \n",
    "            filtered_frames_list.append(binary_edge_map)\n",
    "        else:\n",
    "            break\n",
    "    video.release()\n",
    "    return frames_list, filtered_frames_list\n"
   ]
  },
  {
   "cell_type": "code",
   "execution_count": 8,
   "metadata": {},
   "outputs": [],
   "source": [
    "frames_list, filtered_frames_list = create_frames_from_video(\"flick.mp4\")"
   ]
  },
  {
   "cell_type": "code",
   "execution_count": 9,
   "metadata": {},
   "outputs": [],
   "source": [
    "def show_video_from_frames(frames_list, filtered_frames_list):\n",
    "    for i in range(len(filtered_frames_list)):\n",
    "        cv2.imshow(\"frame\", frames_list[i])\n",
    "        cv2.imshow(\"filtered_frames\", filtered_frames_list[i])\n",
    "        if(cv2.waitKey(5) == ord('q')):\n",
    "            break"
   ]
  },
  {
   "cell_type": "code",
   "execution_count": 10,
   "metadata": {},
   "outputs": [
    {
     "ename": "",
     "evalue": "",
     "output_type": "error",
     "traceback": [
      "\u001b[1;31mThe Kernel crashed while executing code in the the current cell or a previous cell. Please review the code in the cell(s) to identify a possible cause of the failure. Click <a href='https://aka.ms/vscodeJupyterKernelCrash'>here</a> for more info. View Jupyter <a href='command:jupyter.viewOutput'>log</a> for further details."
     ]
    }
   ],
   "source": [
    "show_video_from_frames(frames_list, filtered_frames_list)"
   ]
  }
 ],
 "metadata": {
  "kernelspec": {
   "display_name": "Python 3",
   "language": "python",
   "name": "python3"
  },
  "language_info": {
   "codemirror_mode": {
    "name": "ipython",
    "version": 3
   },
   "file_extension": ".py",
   "mimetype": "text/x-python",
   "name": "python",
   "nbconvert_exporter": "python",
   "pygments_lexer": "ipython3",
   "version": "3.10.5"
  },
  "orig_nbformat": 4,
  "vscode": {
   "interpreter": {
    "hash": "afbd2e3b20535035cb123f2b315173d4c27faa26889583774d241154cf5dbaf6"
   }
  }
 },
 "nbformat": 4,
 "nbformat_minor": 2
}
