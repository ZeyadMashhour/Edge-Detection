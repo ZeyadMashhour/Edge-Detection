{
 "cells": [
  {
   "cell_type": "code",
   "execution_count": 6,
   "metadata": {},
   "outputs": [],
   "source": [
    "import cv2\n",
    "\n",
    "# Initialize the video capture object\n",
    "cap = cv2.VideoCapture(\"flick.mp4\")\n",
    "\n",
    "while True:\n",
    "    # Read the current frame from the camera\n",
    "    ret, frame = cap.read()\n",
    "\n",
    "    # Convert the frame to grayscale\n",
    "    gray = cv2.cvtColor(frame, cv2.COLOR_BGR2GRAY)\n",
    "    gray = cv2.resize(frame, (500, 500))\n",
    "\n",
    "    # Apply the Canny edge detection algorithm\n",
    "    edges_canny = cv2.Canny(gray, 100, 200)\n",
    "    edges_canny = cv2.resize(frame, (500, 500))\n",
    "\n",
    "    # Apply the Sobel edge detection algorithm\n",
    "    sobelx = cv2.Sobel(gray, cv2.CV_64F, 1, 0, ksize=3)\n",
    "    sobely = cv2.Sobel(gray, cv2.CV_64F, 0, 1, ksize=3)\n",
    "    edges_sobel = cv2.sqrt(sobelx**2 + sobely**2)\n",
    "\n",
    "    # Display the original frame and the edge maps\n",
    "    cv2.imshow('Original', frame)\n",
    "    cv2.imshow('Canny', edges_canny)\n",
    "    cv2.imshow('Sobel', edges_sobel)\n",
    "\n",
    "    # Exit the loop if the 'q' key is pressed\n",
    "    if cv2.waitKey(1) & 0xFF == ord('q'):\n",
    "        break\n",
    "\n",
    "# Release the video capture object and close all windows\n",
    "cap.release()\n",
    "cv2.destroyAllWindows()\n"
   ]
  }
 ],
 "metadata": {
  "kernelspec": {
   "display_name": "Python 3",
   "language": "python",
   "name": "python3"
  },
  "language_info": {
   "codemirror_mode": {
    "name": "ipython",
    "version": 3
   },
   "file_extension": ".py",
   "mimetype": "text/x-python",
   "name": "python",
   "nbconvert_exporter": "python",
   "pygments_lexer": "ipython3",
   "version": "3.10.0"
  },
  "orig_nbformat": 4
 },
 "nbformat": 4,
 "nbformat_minor": 2
}
