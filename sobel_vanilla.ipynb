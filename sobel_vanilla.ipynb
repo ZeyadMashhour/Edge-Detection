{
 "cells": [
  {
   "cell_type": "code",
   "execution_count": 5,
   "metadata": {},
   "outputs": [],
   "source": [
    "import cv2\n",
    "import numpy as np\n",
    "\n",
    "def sobel_edge_detection(image, threshold_value = 100):\n",
    "    # Convert image to grayscale\n",
    "    img_gray = cv2.cvtColor(image, cv2.COLOR_BGR2GRAY)\n",
    "\n",
    "    # Define Sobel kernels\n",
    "    kernel_x = np.array([[-1, 0, 1], [-2, 0, 2], [-1, 0, 1]])\n",
    "    kernel_y = np.array([[-1, -2, -1], [0, 0, 0], [1, 2, 1]])\n",
    "\n",
    "    # Apply Sobel filters to image\n",
    "    gx = cv2.filter2D(img_gray, cv2.CV_64F, kernel_x)\n",
    "    gy = cv2.filter2D(img_gray, cv2.CV_64F, kernel_y)\n",
    "\n",
    "    # Compute gradient magnitude and direction\n",
    "    magnitude = np.sqrt(gx**2 + gy**2)\n",
    "\n",
    "    # Threshold the magnitude to create edge map\n",
    "    edge_map = np.zeros_like(magnitude)\n",
    "    \n",
    "    edge_map[magnitude > threshold_value] = 255\n",
    "\n",
    "    return edge_map\n"
   ]
  },
  {
   "cell_type": "code",
   "execution_count": 11,
   "metadata": {},
   "outputs": [],
   "source": [
    "# Load the input image\n",
    "image = cv2.imread('4.jpg')\n",
    "image = cv2.resize(image, (500, 500))\n",
    "\n",
    "# Call the sobel_edge_detection function\n",
    "edge_map = sobel_edge_detection(image, threshold_value=80)\n",
    "\n",
    "# Convert edge map to uint8 data type\n",
    "edge_map = edge_map.astype(np.uint8)\n",
    "\n",
    "# Display the results\n",
    "cv2.imshow('Input Image', image)\n",
    "cv2.imshow('Sobel Edge Map', edge_map)\n",
    "cv2.waitKey(0)\n",
    "cv2.destroyAllWindows()\n"
   ]
  }
 ],
 "metadata": {
  "kernelspec": {
   "display_name": "Python 3",
   "language": "python",
   "name": "python3"
  },
  "language_info": {
   "codemirror_mode": {
    "name": "ipython",
    "version": 3
   },
   "file_extension": ".py",
   "mimetype": "text/x-python",
   "name": "python",
   "nbconvert_exporter": "python",
   "pygments_lexer": "ipython3",
   "version": "3.10.0"
  },
  "orig_nbformat": 4
 },
 "nbformat": 4,
 "nbformat_minor": 2
}
